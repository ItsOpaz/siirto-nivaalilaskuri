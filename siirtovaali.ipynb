{
  "nbformat": 4,
  "nbformat_minor": 0,
  "metadata": {
    "colab": {
      "provenance": [],
      "include_colab_link": true
    },
    "kernelspec": {
      "name": "python3",
      "display_name": "Python 3"
    },
    "language_info": {
      "name": "python"
    }
  },
  "cells": [
    {
      "cell_type": "markdown",
      "metadata": {
        "id": "view-in-github",
        "colab_type": "text"
      },
      "source": [
        "<a href=\"https://colab.research.google.com/github/ItsOpaz/siirtoaanivaalilaskuri/blob/main/siirtovaali.ipynb\" target=\"_parent\"><img src=\"https://colab.research.google.com/assets/colab-badge.svg\" alt=\"Open In Colab\"/></a>"
      ]
    },
    {
      "cell_type": "code",
      "execution_count": null,
      "metadata": {
        "colab": {
          "base_uri": "https://localhost:8080/"
        },
        "id": "4A8HO5uVaf9m",
        "outputId": "bf7dbdd6-bde5-44a8-cb80-cbaf0e2d963b"
      },
      "outputs": [
        {
          "output_type": "stream",
          "name": "stdout",
          "text": [
            "    1  2  3  4  5  6  7  8\n",
            "0   d  b  c  a  e  f  g  h\n",
            "1   a  b  c  d  e  h  g  f\n",
            "2   c  b  a  d  d  f  g  h\n",
            "3   b  a  c  d  e  f  g  h\n",
            "4   b  c  a  d  e  f  g  h\n",
            "5   d  b  c  a  e  f  g  h\n",
            "6   a  b  c  d  e  h  g  f\n",
            "7   c  b  a  d  d  f  g  h\n",
            "8   b  a  c  d  e  f  g  h\n",
            "9   b  c  a  d  e  f  g  h\n",
            "10  d  b  c  a  e  f  g  h\n",
            "11  a  b  c  d  e  h  g  f\n",
            "12  c  b  a  d  d  f  g  h\n",
            "13  b  a  c  d  e  f  g  h\n",
            "14  b  c  a  d  e  f  g  h\n",
            "15  d  b  c  a  e  f  g  h\n",
            "16  a  b  c  d  e  h  g  f\n",
            "17  c  b  a  d  d  f  g  h\n",
            "18  b  a  c  d  e  f  g  h\n",
            "19  h  c  a  d  e  f  g  b\n"
          ]
        }
      ],
      "source": [
        "import pandas\n",
        "import numpy as np\n",
        "\n",
        "df = pandas.read_excel(\"data.xlsx\")\n",
        "removed_values = []\n",
        "print(df)"
      ]
    },
    {
      "cell_type": "code",
      "source": [
        "def checkSecondary(df, values, round):\n",
        "  values = []\n",
        "  \n",
        "  for index, value in df[1].value_counts().iteritems():\n",
        "    if value == df[1].value_counts().iloc[-1]:\n",
        "      values.append(index)\n",
        "\n",
        "  print(\"{}. kierroksella vähiten ääniä saaneet: {}\".format(round, values))\n",
        "  print(\"toisijaiset äänet:\")\n",
        "  secondary = {}\n",
        "\n",
        "  for item in values:\n",
        "    try:\n",
        "      print(\"{} {}\".format(item, df[2].value_counts()[item]))\n",
        "      secondary[item] = df[2].value_counts()[item]\n",
        "\n",
        "    except:\n",
        "      print(\"{} {}\".format(item, 0))\n",
        "      secondary[item] = 0\n",
        "  minval = min(secondary.values())\n",
        "  res = list(filter(lambda x: secondary[x]==minval, secondary))\n",
        "\n",
        "  if len(res) == 1:\n",
        "    return res[0]\n",
        "  else:\n",
        "    checkSecondary(df, res, round+1)"
      ],
      "metadata": {
        "id": "ydxpSD9AEPI1"
      },
      "execution_count": null,
      "outputs": []
    },
    {
      "cell_type": "code",
      "source": [
        "def shifter(df):\n",
        "    print(\"---------------------------------------------------\")\n",
        "    print(\"ensisijaiset äänet:\")\n",
        "    print(df[1].value_counts())\n",
        "\n",
        "    if df[1].value_counts().iloc[-2] != df[1].value_counts().iloc[-1]:\n",
        "      removable = df[1].value_counts().index[-1]\n",
        "    else:\n",
        "      print(\"tasapeli\")\n",
        "      values = []\n",
        "      for index, value in df[1].value_counts().iteritems():\n",
        "        if value == df[1].value_counts().iloc[-1]:\n",
        "          values.append(index)\n",
        "      removable = checkSecondary(df, values, 1)\n",
        "    removed_values.append(removable)\n",
        "    print(\"Pudonnut: {}\".format(removable))\n",
        "\n",
        "    for index, row in df.iterrows():\n",
        "        if row[1] in removed_values:\n",
        "          df.loc[index] = np.hstack((np.delete(np.array(row), [0]), [np.nan]))\n",
        "          \n",
        "    if df[1].value_counts().iloc[0] >= len(df.index)/2:\n",
        "      print(df)\n",
        "      print(\"Voittaja on: {} ({} äänellä)\".format(df[1].value_counts().index[0], df[1].value_counts().iloc[0]))\n",
        "    else:\n",
        "      print(df)\n",
        "      shifter(df)"
      ],
      "metadata": {
        "id": "7ApARCnxo09L"
      },
      "execution_count": null,
      "outputs": []
    },
    {
      "cell_type": "code",
      "source": [
        "shifter(df)"
      ],
      "metadata": {
        "colab": {
          "base_uri": "https://localhost:8080/"
        },
        "id": "MQs9aXufsKbX",
        "outputId": "bb620851-cfbf-4a79-faeb-8da652290b94"
      },
      "execution_count": null,
      "outputs": [
        {
          "output_type": "stream",
          "name": "stdout",
          "text": [
            "---------------------------------------------------\n",
            "ensisijaiset äänet:\n",
            "b    7\n",
            "d    4\n",
            "a    4\n",
            "c    4\n",
            "h    1\n",
            "Name: 1, dtype: int64\n",
            "Pudonnut: h\n",
            "    1  2  3  4  5  6  7    8\n",
            "0   d  b  c  a  e  f  g    h\n",
            "1   a  b  c  d  e  h  g    f\n",
            "2   c  b  a  d  d  f  g    h\n",
            "3   b  a  c  d  e  f  g    h\n",
            "4   b  c  a  d  e  f  g    h\n",
            "5   d  b  c  a  e  f  g    h\n",
            "6   a  b  c  d  e  h  g    f\n",
            "7   c  b  a  d  d  f  g    h\n",
            "8   b  a  c  d  e  f  g    h\n",
            "9   b  c  a  d  e  f  g    h\n",
            "10  d  b  c  a  e  f  g    h\n",
            "11  a  b  c  d  e  h  g    f\n",
            "12  c  b  a  d  d  f  g    h\n",
            "13  b  a  c  d  e  f  g    h\n",
            "14  b  c  a  d  e  f  g    h\n",
            "15  d  b  c  a  e  f  g    h\n",
            "16  a  b  c  d  e  h  g    f\n",
            "17  c  b  a  d  d  f  g    h\n",
            "18  b  a  c  d  e  f  g    h\n",
            "19  c  a  d  e  f  g  b  NaN\n",
            "---------------------------------------------------\n",
            "ensisijaiset äänet:\n",
            "b    7\n",
            "c    5\n",
            "d    4\n",
            "a    4\n",
            "Name: 1, dtype: int64\n",
            "tasapeli\n",
            "1. kierroksella vähiten ääniä saaneet: ['d', 'a']\n",
            "toisijaiset äänet:\n",
            "d 0\n",
            "a 5\n",
            "Pudonnut: d\n",
            "    1  2  3  4  5  6  7    8\n",
            "0   b  c  a  e  f  g  h  NaN\n",
            "1   a  b  c  d  e  h  g    f\n",
            "2   c  b  a  d  d  f  g    h\n",
            "3   b  a  c  d  e  f  g    h\n",
            "4   b  c  a  d  e  f  g    h\n",
            "5   b  c  a  e  f  g  h  NaN\n",
            "6   a  b  c  d  e  h  g    f\n",
            "7   c  b  a  d  d  f  g    h\n",
            "8   b  a  c  d  e  f  g    h\n",
            "9   b  c  a  d  e  f  g    h\n",
            "10  b  c  a  e  f  g  h  NaN\n",
            "11  a  b  c  d  e  h  g    f\n",
            "12  c  b  a  d  d  f  g    h\n",
            "13  b  a  c  d  e  f  g    h\n",
            "14  b  c  a  d  e  f  g    h\n",
            "15  b  c  a  e  f  g  h  NaN\n",
            "16  a  b  c  d  e  h  g    f\n",
            "17  c  b  a  d  d  f  g    h\n",
            "18  b  a  c  d  e  f  g    h\n",
            "19  c  a  d  e  f  g  b  NaN\n",
            "Voittaja on: b (11 äänellä)\n"
          ]
        }
      ]
    }
  ]
}